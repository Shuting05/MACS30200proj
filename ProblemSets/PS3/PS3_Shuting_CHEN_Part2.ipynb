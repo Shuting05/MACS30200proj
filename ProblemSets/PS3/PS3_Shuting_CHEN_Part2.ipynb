{
 "cells": [
  {
   "cell_type": "markdown",
   "metadata": {},
   "source": [
    "## Problem Set #3\n",
    "MACS 30200, Dr. Evans and Dr. Soltoff\n",
    "\n",
    "Shuting Chen"
   ]
  },
  {
   "cell_type": "markdown",
   "metadata": {},
   "source": [
    "### Part 2. Scalar regression "
   ]
  },
  {
   "cell_type": "code",
   "execution_count": 1,
   "metadata": {},
   "outputs": [
    {
     "name": "stderr",
     "output_type": "stream",
     "text": [
      "/Users/ivychen/anaconda3/lib/python3.6/site-packages/h5py/__init__.py:34: FutureWarning: Conversion of the second argument of issubdtype from `float` to `np.floating` is deprecated. In future, it will be treated as `np.float64 == np.dtype(float).type`.\n",
      "  from ._conv import register_converters as _register_converters\n",
      "Using TensorFlow backend.\n"
     ]
    }
   ],
   "source": [
    "from keras.datasets import boston_housing\n",
    "from keras import regularizers\n",
    "from keras.utils import to_categorical\n",
    "from sklearn.model_selection import train_test_split\n",
    "import matplotlib.pyplot as plt\n",
    "%matplotlib inline\n",
    "\n",
    "(train_data, train_targets), (test_data, test_targets) =boston_housing.load_data()"
   ]
  },
  {
   "cell_type": "code",
   "execution_count": 2,
   "metadata": {
    "collapsed": true
   },
   "outputs": [],
   "source": [
    "# Normalizing the data \n",
    "mean = train_data.mean(axis=0)\n",
    "train_data -= mean\n",
    "std = train_data.std(axis=0)\n",
    "train_data /= std\n",
    "\n",
    "test_data -= mean\n",
    "test_data /= std"
   ]
  },
  {
   "cell_type": "markdown",
   "metadata": {},
   "source": [
    "#### Model 1.  Fully-connected, epoches = 25"
   ]
  },
  {
   "cell_type": "code",
   "execution_count": 3,
   "metadata": {
    "collapsed": true
   },
   "outputs": [],
   "source": [
    "from keras import models\n",
    "from keras import layers\n",
    "\n",
    "def first_model():\n",
    "    model = models.Sequential()\n",
    "    model.add(layers.Dense(64, activation='relu',\n",
    "                           input_shape=(train_data.shape[1],)))\n",
    "    model.add(layers.Dense(64, activation='relu'))\n",
    "    model.add(layers.Dense(1))\n",
    "    model.compile(optimizer='rmsprop', loss='mse')\n",
    "    return model"
   ]
  },
  {
   "cell_type": "code",
   "execution_count": 4,
   "metadata": {},
   "outputs": [
    {
     "name": "stdout",
     "output_type": "stream",
     "text": [
      "processing fold # 0\n",
      "processing fold # 1\n",
      "processing fold # 2\n",
      "processing fold # 3\n",
      "processing fold # 4\n",
      "processing fold # 5\n",
      "processing fold # 6\n",
      "processing fold # 7\n",
      "processing fold # 8\n",
      "processing fold # 9\n"
     ]
    }
   ],
   "source": [
    "import numpy as np\n",
    "\n",
    "# Epochs = 25\n",
    "k = 10\n",
    "num_val_samples = len(train_data) // k\n",
    "num_epochs = 25\n",
    "all_mse_histories = []\n",
    "for i in range(k):\n",
    "    print('processing fold #', i)\n",
    "    val_data = train_data[i * num_val_samples: (i + 1) * num_val_samples]\n",
    "    val_targets = train_targets[i * num_val_samples: (i + 1) * num_val_samples]\n",
    "    partial_train_data = np.concatenate(\n",
    "        [train_data[:i * num_val_samples],\n",
    "         train_data[(i + 1) * num_val_samples:]],\n",
    "        axis=0)\n",
    "    partial_train_targets = np.concatenate(\n",
    "        [train_targets[:i * num_val_samples],\n",
    "         train_targets[(i + 1) * num_val_samples:]],\n",
    "        axis=0)\n",
    "\n",
    "    model = first_model()\n",
    "    history = model.fit(partial_train_data, partial_train_targets,\n",
    "                        validation_data=(val_data, val_targets),\n",
    "                        epochs=num_epochs, batch_size=1, verbose=0)\n",
    "    mse_history = history.history['val_loss']\n",
    "    all_mse_histories.append(mse_history)"
   ]
  },
  {
   "cell_type": "code",
   "execution_count": 5,
   "metadata": {},
   "outputs": [
    {
     "data": {
      "image/png": "[encoded data removed]",
      "text/plain": [
       "<matplotlib.figure.Figure at 0x11c02df60>"
      ]
     },
     "metadata": {},
     "output_type": "display_data"
    }
   ],
   "source": [
    "average_mse_history = [\n",
    "    np.mean([x[i] for x in all_mse_histories]) for i in range(num_epochs)]\n",
    "\n",
    "import matplotlib.pyplot as plt\n",
    "plt.plot(range(1, len(average_mse_history) + 1), average_mse_history, label = 'MSE: Model 1')\n",
    "plt.xlabel('Epochs')\n",
    "plt.ylabel('Validation MSE')\n",
    "plt.show()"
   ]
  },
  {
   "cell_type": "code",
   "execution_count": 6,
   "metadata": {},
   "outputs": [
    {
     "data": {
      "text/plain": [
       "11.422463181515194"
      ]
     },
     "execution_count": 6,
     "metadata": {},
     "output_type": "execute_result"
    }
   ],
   "source": [
    "min(average_mse_history)"
   ]
  },
  {
   "cell_type": "markdown",
   "metadata": {},
   "source": [
    "#### Model 2.  Fully-connected, epoches = 100"
   ]
  },
  {
   "cell_type": "code",
   "execution_count": 7,
   "metadata": {},
   "outputs": [
    {
     "name": "stdout",
     "output_type": "stream",
     "text": [
      "processing fold # 0\n",
      "processing fold # 1\n",
      "processing fold # 2\n",
      "processing fold # 3\n",
      "processing fold # 4\n",
      "processing fold # 5\n",
      "processing fold # 6\n",
      "processing fold # 7\n",
      "processing fold # 8\n",
      "processing fold # 9\n"
     ]
    }
   ],
   "source": [
    "# Epochs = 100\n",
    "k = 10\n",
    "num_val_samples = len(train_data) // k\n",
    "num_epochs = 100\n",
    "all_mse_histories = []\n",
    "for i in range(k):\n",
    "    print('processing fold #', i)\n",
    "    val_data = train_data[i * num_val_samples: (i + 1) * num_val_samples]\n",
    "    val_targets = train_targets[i * num_val_samples: (i + 1) * num_val_samples]\n",
    "    partial_train_data = np.concatenate(\n",
    "        [train_data[:i * num_val_samples],\n",
    "         train_data[(i + 1) * num_val_samples:]],\n",
    "        axis=0)\n",
    "    partial_train_targets = np.concatenate(\n",
    "        [train_targets[:i * num_val_samples],\n",
    "         train_targets[(i + 1) * num_val_samples:]],\n",
    "        axis=0)\n",
    "\n",
    "    model = first_model()\n",
    "    history = model.fit(partial_train_data, partial_train_targets,\n",
    "                        validation_data=(val_data, val_targets),\n",
    "                        epochs=num_epochs, batch_size=1, verbose=0)\n",
    "    mse_history = history.history['val_loss']\n",
    "    all_mse_histories.append(mse_history)"
   ]
  },
  {
   "cell_type": "code",
   "execution_count": 8,
   "metadata": {},
   "outputs": [
    {
     "data": {
      "image/png": "[encoded data removed]",
      "text/plain": [
       "<matplotlib.figure.Figure at 0x11c02d320>"
      ]
     },
     "metadata": {},
     "output_type": "display_data"
    }
   ],
   "source": [
    "average_mse_history = [\n",
    "    np.mean([x[i] for x in all_mse_histories]) for i in range(num_epochs)]\n",
    "\n",
    "plt.plot(range(1, len(average_mse_history) + 1), average_mse_history, label = 'MSE: Model 2')\n",
    "plt.xlabel('Epochs')\n",
    "plt.ylabel('Validation MSE')\n",
    "plt.show()"
   ]
  },
  {
   "cell_type": "code",
   "execution_count": 9,
   "metadata": {},
   "outputs": [
    {
     "data": {
      "text/plain": [
       "10.673023708664086"
      ]
     },
     "execution_count": 9,
     "metadata": {},
     "output_type": "execute_result"
    }
   ],
   "source": [
    "min(average_mse_history)"
   ]
  },
  {
   "cell_type": "markdown",
   "metadata": {},
   "source": [
    "#### Model 3. Dropout "
   ]
  },
  {
   "cell_type": "code",
   "execution_count": 10,
   "metadata": {
    "collapsed": true
   },
   "outputs": [],
   "source": [
    "def third_model():\n",
    "    model = models.Sequential()\n",
    "    model.add(layers.Dense(64, activation='relu',\n",
    "                           input_shape=(train_data.shape[1],)))\n",
    "    model.add(layers.Dropout(0.5))\n",
    "    model.add(layers.Dense(64, activation='relu'))\n",
    "    model.add(layers.Dropout(0.5))\n",
    "    model.add(layers.Dense(64, activation='relu'))\n",
    "    model.add(layers.Dropout(0.5))\n",
    "    model.add(layers.Dense(1))\n",
    "    model.compile(optimizer='rmsprop', loss='mse')\n",
    "    return model"
   ]
  },
  {
   "cell_type": "code",
   "execution_count": 11,
   "metadata": {},
   "outputs": [
    {
     "name": "stdout",
     "output_type": "stream",
     "text": [
      "processing fold # 0\n",
      "processing fold # 1\n",
      "processing fold # 2\n",
      "processing fold # 3\n",
      "processing fold # 4\n",
      "processing fold # 5\n",
      "processing fold # 6\n",
      "processing fold # 7\n",
      "processing fold # 8\n",
      "processing fold # 9\n"
     ]
    }
   ],
   "source": [
    "k = 10\n",
    "num_val_samples = len(train_data) // k\n",
    "num_epochs = 100\n",
    "all_mse_histories = []\n",
    "for i in range(k):\n",
    "    print('processing fold #', i)\n",
    "    val_data = train_data[i * num_val_samples: (i + 1) * num_val_samples]\n",
    "    val_targets = train_targets[i * num_val_samples: (i + 1) * num_val_samples]\n",
    "    partial_train_data = np.concatenate(\n",
    "        [train_data[:i * num_val_samples],\n",
    "         train_data[(i + 1) * num_val_samples:]],\n",
    "        axis=0)\n",
    "    partial_train_targets = np.concatenate(\n",
    "        [train_targets[:i * num_val_samples],\n",
    "         train_targets[(i + 1) * num_val_samples:]],\n",
    "        axis=0)\n",
    "\n",
    "    model = third_model()\n",
    "    history = model.fit(partial_train_data, partial_train_targets,\n",
    "                        validation_data=(val_data, val_targets),\n",
    "                        epochs=num_epochs, batch_size=1, verbose=0)\n",
    "    mse_history = history.history['val_loss']\n",
    "    all_mse_histories.append(mse_history)"
   ]
  },
  {
   "cell_type": "code",
   "execution_count": 12,
   "metadata": {},
   "outputs": [
    {
     "data": {
      "image/png": "[encoded data removed]",
      "text/plain": [
       "<matplotlib.figure.Figure at 0x11f32ada0>"
      ]
     },
     "metadata": {},
     "output_type": "display_data"
    }
   ],
   "source": [
    "average_mse_history = [\n",
    "    np.mean([x[i] for x in all_mse_histories]) for i in range(num_epochs)]\n",
    "\n",
    "plt.plot(range(1, len(average_mse_history) + 1), average_mse_history, label = 'MSE: Model 3')\n",
    "plt.xlabel('Epochs')\n",
    "plt.ylabel('Validation MSE')\n",
    "plt.show()"
   ]
  },
  {
   "cell_type": "code",
   "execution_count": 13,
   "metadata": {},
   "outputs": [
    {
     "data": {
      "text/plain": [
       "19.957391580669757"
      ]
     },
     "execution_count": 13,
     "metadata": {},
     "output_type": "execute_result"
    }
   ],
   "source": [
    "min(average_mse_history)"
   ]
  },
  {
   "cell_type": "markdown",
   "metadata": {},
   "source": [
    "#### Model 4.  L1 weight regularization with penalty of 0.001"
   ]
  },
  {
   "cell_type": "code",
   "execution_count": 14,
   "metadata": {
    "collapsed": true
   },
   "outputs": [],
   "source": [
    "def fourth_model():\n",
    "    model = models.Sequential()\n",
    "    model.add(layers.Dense(64, activation='relu',\n",
    "                           input_shape=(train_data.shape[1],), kernel_regularizer=regularizers.l1(0.001)))\n",
    "    model.add(layers.Dense(64, activation='relu', kernel_regularizer=regularizers.l1(0.001)))\n",
    "    model.add(layers.Dense(1, kernel_regularizer=regularizers.l1(0.001)))\n",
    "    model.compile(optimizer='rmsprop', loss='mse')\n",
    "    return model"
   ]
  },
  {
   "cell_type": "code",
   "execution_count": 15,
   "metadata": {},
   "outputs": [
    {
     "name": "stdout",
     "output_type": "stream",
     "text": [
      "processing fold # 0\n",
      "processing fold # 1\n",
      "processing fold # 2\n",
      "processing fold # 3\n",
      "processing fold # 4\n",
      "processing fold # 5\n",
      "processing fold # 6\n",
      "processing fold # 7\n",
      "processing fold # 8\n",
      "processing fold # 9\n"
     ]
    }
   ],
   "source": [
    "k = 10\n",
    "num_val_samples = len(train_data) // k\n",
    "num_epochs = 100\n",
    "all_mse_histories = []\n",
    "for i in range(k):\n",
    "    print('processing fold #', i)\n",
    "    val_data = train_data[i * num_val_samples: (i + 1) * num_val_samples]\n",
    "    val_targets = train_targets[i * num_val_samples: (i + 1) * num_val_samples]\n",
    "    partial_train_data = np.concatenate(\n",
    "        [train_data[:i * num_val_samples],\n",
    "         train_data[(i + 1) * num_val_samples:]],\n",
    "        axis=0)\n",
    "    partial_train_targets = np.concatenate(\n",
    "        [train_targets[:i * num_val_samples],\n",
    "         train_targets[(i + 1) * num_val_samples:]],\n",
    "        axis=0)\n",
    "\n",
    "    model = fourth_model()\n",
    "    history = model.fit(partial_train_data, partial_train_targets,\n",
    "                        validation_data=(val_data, val_targets),\n",
    "                        epochs=num_epochs, batch_size=1, verbose=0)\n",
    "    mse_history = history.history['val_loss']\n",
    "    all_mse_histories.append(mse_history)"
   ]
  },
  {
   "cell_type": "code",
   "execution_count": 16,
   "metadata": {},
   "outputs": [
    {
     "data": {
      "image/png": "[encoded data removed]",
      "text/plain": [
       "<matplotlib.figure.Figure at 0x122a97be0>"
      ]
     },
     "metadata": {},
     "output_type": "display_data"
    }
   ],
   "source": [
    "average_mse_history = [\n",
    "    np.mean([x[i] for x in all_mse_histories]) for i in range(num_epochs)]\n",
    "\n",
    "plt.plot(range(1, len(average_mse_history) + 1), average_mse_history, label = 'MSE: Model 4')\n",
    "plt.xlabel('Epochs')\n",
    "plt.ylabel('Validation MSE')\n",
    "plt.show()"
   ]
  },
  {
   "cell_type": "code",
   "execution_count": 17,
   "metadata": {},
   "outputs": [
    {
     "data": {
      "text/plain": [
       "10.715233157500624"
      ]
     },
     "execution_count": 17,
     "metadata": {},
     "output_type": "execute_result"
    }
   ],
   "source": [
    "min(average_mse_history)"
   ]
  },
  {
   "cell_type": "markdown",
   "metadata": {},
   "source": [
    "#### Model 5.  L2 weight regularization with penalty of 0.001"
   ]
  },
  {
   "cell_type": "code",
   "execution_count": 18,
   "metadata": {
    "collapsed": true
   },
   "outputs": [],
   "source": [
    "def fifth_model():\n",
    "    model = models.Sequential()\n",
    "    model.add(layers.Dense(64, activation='relu',\n",
    "                           input_shape=(train_data.shape[1],), kernel_regularizer=regularizers.l2(0.001)))\n",
    "    model.add(layers.Dense(64, activation='relu', kernel_regularizer=regularizers.l2(0.001)))\n",
    "    model.add(layers.Dense(1, kernel_regularizer=regularizers.l2(0.001)))\n",
    "    model.compile(optimizer='rmsprop', loss='mse')\n",
    "    return model"
   ]
  },
  {
   "cell_type": "code",
   "execution_count": 19,
   "metadata": {},
   "outputs": [
    {
     "name": "stdout",
     "output_type": "stream",
     "text": [
      "processing fold # 0\n",
      "processing fold # 1\n",
      "processing fold # 2\n",
      "processing fold # 3\n",
      "processing fold # 4\n",
      "processing fold # 5\n",
      "processing fold # 6\n",
      "processing fold # 7\n",
      "processing fold # 8\n",
      "processing fold # 9\n"
     ]
    }
   ],
   "source": [
    "k = 10\n",
    "num_val_samples = len(train_data) // k\n",
    "num_epochs = 100\n",
    "all_mse_histories = []\n",
    "for i in range(k):\n",
    "    print('processing fold #', i)\n",
    "    val_data = train_data[i * num_val_samples: (i + 1) * num_val_samples]\n",
    "    val_targets = train_targets[i * num_val_samples: (i + 1) * num_val_samples]\n",
    "    partial_train_data = np.concatenate(\n",
    "        [train_data[:i * num_val_samples],\n",
    "         train_data[(i + 1) * num_val_samples:]],\n",
    "        axis=0)\n",
    "    partial_train_targets = np.concatenate(\n",
    "        [train_targets[:i * num_val_samples],\n",
    "         train_targets[(i + 1) * num_val_samples:]],\n",
    "        axis=0)\n",
    "\n",
    "    model = fifth_model()\n",
    "    history = model.fit(partial_train_data, partial_train_targets,\n",
    "                        validation_data=(val_data, val_targets),\n",
    "                        epochs=num_epochs, batch_size=1, verbose=0)\n",
    "    mse_history = history.history['val_loss']\n",
    "    all_mse_histories.append(mse_history)"
   ]
  },
  {
   "cell_type": "code",
   "execution_count": 20,
   "metadata": {},
   "outputs": [
    {
     "data": {
      "image/png": "[encoded data removed]",
      "text/plain": [
       "<matplotlib.figure.Figure at 0x11ed3c5c0>"
      ]
     },
     "metadata": {},
     "output_type": "display_data"
    }
   ],
   "source": [
    "average_mse_history = [\n",
    "    np.mean([x[i] for x in all_mse_histories]) for i in range(num_epochs)]\n",
    "\n",
    "plt.plot(range(1, len(average_mse_history) + 1), average_mse_history, label = 'MSE: Model 5')\n",
    "plt.xlabel('Epochs')\n",
    "plt.ylabel('Validation MSE')\n",
    "plt.show()"
   ]
  },
  {
   "cell_type": "code",
   "execution_count": 21,
   "metadata": {},
   "outputs": [
    {
     "data": {
      "text/plain": [
       "11.38408665481955"
      ]
     },
     "execution_count": 21,
     "metadata": {},
     "output_type": "execute_result"
    }
   ],
   "source": [
    "min(average_mse_history)"
   ]
  },
  {
   "cell_type": "markdown",
   "metadata": {},
   "source": [
    "It can be seen that the second model (fully-connected, epochs = 100) has the optimal performance. "
   ]
  },
  {
   "cell_type": "code",
   "execution_count": 23,
   "metadata": {},
   "outputs": [
    {
     "name": "stdout",
     "output_type": "stream",
     "text": [
      "Epoch 1/100\n",
      "404/404 [==============================] - 1s 4ms/step - loss: 171.1287\n",
      "Epoch 2/100\n",
      "404/404 [==============================] - 0s 1ms/step - loss: 23.3866\n",
      "Epoch 3/100\n",
      "404/404 [==============================] - 0s 1ms/step - loss: 17.8004\n",
      "Epoch 4/100\n",
      "404/404 [==============================] - 0s 1ms/step - loss: 15.0257\n",
      "Epoch 5/100\n",
      "404/404 [==============================] - 0s 1ms/step - loss: 13.6292\n",
      "Epoch 6/100\n",
      "404/404 [==============================] - 0s 1ms/step - loss: 12.4995\n",
      "Epoch 7/100\n",
      "404/404 [==============================] - 0s 1ms/step - loss: 11.8423\n",
      "Epoch 8/100\n",
      "404/404 [==============================] - 0s 1ms/step - loss: 10.6818\n",
      "Epoch 9/100\n",
      "404/404 [==============================] - 1s 1ms/step - loss: 11.3003\n",
      "Epoch 10/100\n",
      "404/404 [==============================] - 0s 1ms/step - loss: 10.4711\n",
      "Epoch 11/100\n",
      "404/404 [==============================] - 0s 1ms/step - loss: 10.1515\n",
      "Epoch 12/100\n",
      "404/404 [==============================] - 0s 1ms/step - loss: 9.4011\n",
      "Epoch 13/100\n",
      "404/404 [==============================] - 1s 1ms/step - loss: 9.5367\n",
      "Epoch 14/100\n",
      "404/404 [==============================] - 0s 1ms/step - loss: 9.0344\n",
      "Epoch 15/100\n",
      "404/404 [==============================] - 0s 1ms/step - loss: 9.1281TA: 0s - loss: 9.15\n",
      "Epoch 16/100\n",
      "404/404 [==============================] - 0s 1ms/step - loss: 8.4867\n",
      "Epoch 17/100\n",
      "404/404 [==============================] - 0s 1ms/step - loss: 8.4426\n",
      "Epoch 18/100\n",
      "404/404 [==============================] - 1s 1ms/step - loss: 8.3494\n",
      "Epoch 19/100\n",
      "404/404 [==============================] - 0s 1ms/step - loss: 7.9894\n",
      "Epoch 20/100\n",
      "404/404 [==============================] - 0s 1ms/step - loss: 7.9896\n",
      "Epoch 21/100\n",
      "404/404 [==============================] - 0s 1ms/step - loss: 8.0723\n",
      "Epoch 22/100\n",
      "404/404 [==============================] - 0s 1ms/step - loss: 7.9404\n",
      "Epoch 23/100\n",
      "404/404 [==============================] - 0s 1ms/step - loss: 7.5503\n",
      "Epoch 24/100\n",
      "404/404 [==============================] - 0s 1ms/step - loss: 7.4245\n",
      "Epoch 25/100\n",
      "404/404 [==============================] - 0s 1ms/step - loss: 7.2717\n",
      "Epoch 26/100\n",
      "404/404 [==============================] - 0s 1ms/step - loss: 7.0363\n",
      "Epoch 27/100\n",
      "404/404 [==============================] - 0s 1ms/step - loss: 7.1567\n",
      "Epoch 28/100\n",
      "404/404 [==============================] - 0s 1ms/step - loss: 7.3840\n",
      "Epoch 29/100\n",
      "404/404 [==============================] - 1s 1ms/step - loss: 7.2946\n",
      "Epoch 30/100\n",
      "404/404 [==============================] - 0s 1ms/step - loss: 7.0732\n",
      "Epoch 31/100\n",
      "404/404 [==============================] - 0s 1ms/step - loss: 6.8523\n",
      "Epoch 32/100\n",
      "404/404 [==============================] - 0s 1ms/step - loss: 6.6985\n",
      "Epoch 33/100\n",
      "404/404 [==============================] - 0s 1ms/step - loss: 6.6516\n",
      "Epoch 34/100\n",
      "404/404 [==============================] - 1s 1ms/step - loss: 6.6730\n",
      "Epoch 35/100\n",
      "404/404 [==============================] - 0s 1ms/step - loss: 6.2769\n",
      "Epoch 36/100\n",
      "404/404 [==============================] - 0s 1ms/step - loss: 6.9402\n",
      "Epoch 37/100\n",
      "404/404 [==============================] - 0s 1ms/step - loss: 6.4890\n",
      "Epoch 38/100\n",
      "404/404 [==============================] - 0s 1ms/step - loss: 6.4614\n",
      "Epoch 39/100\n",
      "404/404 [==============================] - 0s 1ms/step - loss: 6.4115\n",
      "Epoch 40/100\n",
      "404/404 [==============================] - 0s 1ms/step - loss: 6.2529\n",
      "Epoch 41/100\n",
      "404/404 [==============================] - 0s 1ms/step - loss: 6.0215\n",
      "Epoch 42/100\n",
      "404/404 [==============================] - 0s 1ms/step - loss: 6.3354\n",
      "Epoch 43/100\n",
      "404/404 [==============================] - 0s 1ms/step - loss: 6.0956\n",
      "Epoch 44/100\n",
      "404/404 [==============================] - 1s 1ms/step - loss: 6.0111\n",
      "Epoch 45/100\n",
      "404/404 [==============================] - 0s 1ms/step - loss: 5.7895\n",
      "Epoch 46/100\n",
      "404/404 [==============================] - 0s 1ms/step - loss: 5.6730\n",
      "Epoch 47/100\n",
      "404/404 [==============================] - 0s 1ms/step - loss: 5.9310\n",
      "Epoch 48/100\n",
      "404/404 [==============================] - 0s 1ms/step - loss: 5.9775\n",
      "Epoch 49/100\n",
      "404/404 [==============================] - 1s 1ms/step - loss: 5.3303\n",
      "Epoch 50/100\n",
      "404/404 [==============================] - 0s 1ms/step - loss: 5.6197\n",
      "Epoch 51/100\n",
      "404/404 [==============================] - 0s 1ms/step - loss: 5.6558\n",
      "Epoch 52/100\n",
      "404/404 [==============================] - 0s 1ms/step - loss: 5.2677\n",
      "Epoch 53/100\n",
      "404/404 [==============================] - 0s 1ms/step - loss: 5.5861\n",
      "Epoch 54/100\n",
      "404/404 [==============================] - 1s 1ms/step - loss: 5.4433\n",
      "Epoch 55/100\n",
      "404/404 [==============================] - 1s 1ms/step - loss: 4.9863\n",
      "Epoch 56/100\n",
      "404/404 [==============================] - 0s 1ms/step - loss: 5.0332\n",
      "Epoch 57/100\n",
      "404/404 [==============================] - 0s 1ms/step - loss: 5.5422\n",
      "Epoch 58/100\n",
      "404/404 [==============================] - 0s 1ms/step - loss: 5.2466\n",
      "Epoch 59/100\n",
      "404/404 [==============================] - 0s 1ms/step - loss: 5.2908\n",
      "Epoch 60/100\n",
      "404/404 [==============================] - 0s 1ms/step - loss: 5.1898\n",
      "Epoch 61/100\n",
      "404/404 [==============================] - 0s 1ms/step - loss: 4.7555\n",
      "Epoch 62/100\n",
      "404/404 [==============================] - 0s 1ms/step - loss: 5.2702\n",
      "Epoch 63/100\n",
      "404/404 [==============================] - 1s 1ms/step - loss: 5.3591\n",
      "Epoch 64/100\n",
      "404/404 [==============================] - 0s 1ms/step - loss: 5.1811\n",
      "Epoch 65/100\n",
      "404/404 [==============================] - 0s 1ms/step - loss: 4.9193\n",
      "Epoch 66/100\n",
      "404/404 [==============================] - 0s 1ms/step - loss: 4.9606\n",
      "Epoch 67/100\n",
      "404/404 [==============================] - 0s 1ms/step - loss: 5.2208\n",
      "Epoch 68/100\n",
      "404/404 [==============================] - 0s 1ms/step - loss: 4.9100\n",
      "Epoch 69/100\n",
      "404/404 [==============================] - 0s 1ms/step - loss: 4.8339\n",
      "Epoch 70/100\n",
      "404/404 [==============================] - 0s 1ms/step - loss: 4.3461\n",
      "Epoch 71/100\n",
      "404/404 [==============================] - 0s 1ms/step - loss: 4.6195\n",
      "Epoch 72/100\n",
      "404/404 [==============================] - 0s 1ms/step - loss: 4.9146\n",
      "Epoch 73/100\n",
      "404/404 [==============================] - 1s 1ms/step - loss: 4.2869\n",
      "Epoch 74/100\n",
      "404/404 [==============================] - 0s 1ms/step - loss: 4.5433\n",
      "Epoch 75/100\n",
      "404/404 [==============================] - 1s 1ms/step - loss: 4.4645\n",
      "Epoch 76/100\n",
      "404/404 [==============================] - 0s 1ms/step - loss: 4.4065\n",
      "Epoch 77/100\n",
      "404/404 [==============================] - 1s 1ms/step - loss: 4.2664\n",
      "Epoch 78/100\n",
      "404/404 [==============================] - 0s 1ms/step - loss: 4.5698\n",
      "Epoch 79/100\n",
      "404/404 [==============================] - 1s 1ms/step - loss: 4.4449\n",
      "Epoch 80/100\n",
      "404/404 [==============================] - 1s 1ms/step - loss: 4.1000\n",
      "Epoch 81/100\n",
      "404/404 [==============================] - 0s 1ms/step - loss: 4.2797\n",
      "Epoch 82/100\n",
      "404/404 [==============================] - 0s 1ms/step - loss: 4.3762\n",
      "Epoch 83/100\n",
      "404/404 [==============================] - 0s 1ms/step - loss: 4.4054\n",
      "Epoch 84/100\n",
      "404/404 [==============================] - 0s 1ms/step - loss: 4.1799\n",
      "Epoch 85/100\n",
      "404/404 [==============================] - 0s 1ms/step - loss: 4.2647\n",
      "Epoch 86/100\n",
      "404/404 [==============================] - 0s 1ms/step - loss: 3.8717\n",
      "Epoch 87/100\n",
      "404/404 [==============================] - 0s 1ms/step - loss: 3.9582\n",
      "Epoch 88/100\n",
      "404/404 [==============================] - 0s 1ms/step - loss: 4.0509\n",
      "Epoch 89/100\n",
      "404/404 [==============================] - 0s 1ms/step - loss: 4.1416\n",
      "Epoch 90/100\n",
      "404/404 [==============================] - 0s 1ms/step - loss: 3.9474\n",
      "Epoch 91/100\n",
      "404/404 [==============================] - 0s 1ms/step - loss: 3.7442\n",
      "Epoch 92/100\n",
      "404/404 [==============================] - 0s 1ms/step - loss: 3.8546\n",
      "Epoch 93/100\n",
      "404/404 [==============================] - 0s 1ms/step - loss: 3.9320\n",
      "Epoch 94/100\n",
      "404/404 [==============================] - 0s 1ms/step - loss: 3.8933\n",
      "Epoch 95/100\n",
      "404/404 [==============================] - 0s 1ms/step - loss: 3.5984\n",
      "Epoch 96/100\n",
      "404/404 [==============================] - 0s 1ms/step - loss: 3.8196\n",
      "Epoch 97/100\n",
      "404/404 [==============================] - 0s 1ms/step - loss: 3.8699\n",
      "Epoch 98/100\n",
      "404/404 [==============================] - 0s 1ms/step - loss: 3.2819\n",
      "Epoch 99/100\n",
      "404/404 [==============================] - 0s 1ms/step - loss: 3.6662\n",
      "Epoch 100/100\n",
      "404/404 [==============================] - 0s 1ms/step - loss: 3.7090\n"
     ]
    }
   ],
   "source": [
    "model = first_model()\n",
    "history = model.fit(train_data, train_targets, epochs=num_epochs, batch_size=1)"
   ]
  },
  {
   "cell_type": "code",
   "execution_count": 24,
   "metadata": {},
   "outputs": [
    {
     "name": "stdout",
     "output_type": "stream",
     "text": [
      "102/102 [==============================] - 0s 4ms/step\n"
     ]
    }
   ],
   "source": [
    "test_mse_score = model.evaluate(test_data, test_targets)"
   ]
  },
  {
   "cell_type": "code",
   "execution_count": 25,
   "metadata": {},
   "outputs": [
    {
     "data": {
      "text/plain": [
       "17.17854279162837"
      ]
     },
     "execution_count": 25,
     "metadata": {},
     "output_type": "execute_result"
    }
   ],
   "source": [
    "test_mse_score"
   ]
  },
  {
   "cell_type": "code",
   "execution_count": null,
   "metadata": {
    "collapsed": true
   },
   "outputs": [],
   "source": []
  }
 ],
 "metadata": {
  "kernelspec": {
   "display_name": "Python 3",
   "language": "python",
   "name": "python3"
  },
  "language_info": {
   "codemirror_mode": {
    "name": "ipython",
    "version": 3
   },
   "file_extension": ".py",
   "mimetype": "text/x-python",
   "name": "python",
   "nbconvert_exporter": "python",
   "pygments_lexer": "ipython3",
   "version": "3.6.3"
  }
 },
 "nbformat": 4,
 "nbformat_minor": 2
}
